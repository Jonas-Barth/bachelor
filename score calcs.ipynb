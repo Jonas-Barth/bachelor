{
 "cells": [
  {
   "cell_type": "code",
   "execution_count": 2,
   "metadata": {},
   "outputs": [],
   "source": [
    "import matplotlib.pyplot as plt\n",
    "import numpy as np\n",
    "import os\n",
    "\n",
    "def matrixPlotRuns (accuracy, precision, recall, f1scores, path, name):\n",
    "    if not os.path.exists(path):\n",
    "        os.makedirs(path)\n",
    "        \n",
    "    #accuracy = np.array([10, 50 ,40])\n",
    "    #precision = np.array([50, 40, 30])\n",
    "\n",
    "    acc_mean = np.mean(accuracy)\n",
    "    prec_mean = np.mean(precision)\n",
    "    rec_mean = np.mean(recall)\n",
    "    f1_mean = np.mean(f1scores)\n",
    "\n",
    "    acc_std = np.std(accuracy)\n",
    "    prec_std = np.std(precision)\n",
    "    rec_std = np.std(recall)\n",
    "    f1_std = np.std(f1scores)\n",
    "\n",
    "    labels = ['Accuracy', 'Precision', 'Recall', 'F1-Score']\n",
    "    x_pos = np.arange(len(labels))\n",
    "    #CTEs = [tp_mean, fp_mean, fn_mean, tn_mean]\n",
    "    #error = [tp_std, fp_std, fn_std, tn_std]\n",
    "    CTEs = [acc_mean, prec_mean, rec_mean, f1_mean]\n",
    "    error = [acc_std, prec_std, rec_std, f1_std]\n",
    "\n",
    "\n",
    "    fig, ax = plt.subplots()\n",
    "    #ax.bar(x_pos, CTEs, yerr=error, align='center', alpha=0.5, ecolor='black', capsize=10)\n",
    "    ax.bar(x_pos, CTEs, yerr=error, align='center', alpha=0.5, ecolor='black', capsize=10)\n",
    "    ax.set_ylabel('Value of Score')\n",
    "    ax.set_xticks(x_pos)\n",
    "    ax.set_xticklabels(labels)\n",
    "    ax.set_title('Average values in set of runs: ' + name)\n",
    "    ax.yaxis.grid(True)\n",
    "    plt.ylim(0, 1)\n",
    "    plt.yticks(np.arange(0, 1.1, 0.1))\n",
    "\n",
    "\n",
    "    # Save the figure\n",
    "    plt.tight_layout()\n",
    "    plt.savefig(path + '\\\\scoresAvg')\n",
    "    #plt.show()"
   ]
  },
  {
   "cell_type": "code",
   "execution_count": 3,
   "metadata": {},
   "outputs": [
    {
     "data": {
      "image/png": "[encoded data removed]",
      "text/plain": [
       "<Figure size 640x480 with 1 Axes>"
      ]
     },
     "metadata": {},
     "output_type": "display_data"
    }
   ],
   "source": [
    "import pandas as pd\n",
    "\n",
    "scoreTable = pd.read_excel(\"results\\\\scores.xlsx\")\n",
    "scoreTable\n",
    "\n",
    "matrixPlotRuns(scoreTable['Accuracy'].values, scoreTable['Precision'].values, scoreTable['Recall'].values, scoreTable['F1'].values, \"results\", \"2024-08-01-13-57\")\n",
    "\n",
    "#scoreTable['Accuracy'].values"
   ]
  },
  {
   "cell_type": "code",
   "execution_count": 5,
   "metadata": {},
   "outputs": [
    {
     "data": {
      "text/html": [
       "<div>\n",
       "<style scoped>\n",
       "    .dataframe tbody tr th:only-of-type {\n",
       "        vertical-align: middle;\n",
       "    }\n",
       "\n",
       "    .dataframe tbody tr th {\n",
       "        vertical-align: top;\n",
       "    }\n",
       "\n",
       "    .dataframe thead th {\n",
       "        text-align: right;\n",
       "    }\n",
       "</style>\n",
       "<table border=\"1\" class=\"dataframe\">\n",
       "  <thead>\n",
       "    <tr style=\"text-align: right;\">\n",
       "      <th></th>\n",
       "      <th>Run</th>\n",
       "      <th>Accuracy</th>\n",
       "      <th>Precision</th>\n",
       "      <th>Recall</th>\n",
       "      <th>F1</th>\n",
       "    </tr>\n",
       "  </thead>\n",
       "  <tbody>\n",
       "    <tr>\n",
       "      <th>0</th>\n",
       "      <td>1</td>\n",
       "      <td>0.63</td>\n",
       "      <td>0.90</td>\n",
       "      <td>0.76</td>\n",
       "      <td>0.71</td>\n",
       "    </tr>\n",
       "    <tr>\n",
       "      <th>1</th>\n",
       "      <td>2</td>\n",
       "      <td>0.55</td>\n",
       "      <td>0.91</td>\n",
       "      <td>0.77</td>\n",
       "      <td>0.70</td>\n",
       "    </tr>\n",
       "  </tbody>\n",
       "</table>\n",
       "</div>"
      ],
      "text/plain": [
       "   Run  Accuracy  Precision  Recall    F1\n",
       "0    1      0.63       0.90    0.76  0.71\n",
       "1    2      0.55       0.91    0.77  0.70"
      ]
     },
     "execution_count": 5,
     "metadata": {},
     "output_type": "execute_result"
    }
   ],
   "source": [
    "d = {'Run': [1, 2], 'Accuracy': [0.63, 0.55], 'Precision':[0.90, 0.91], 'Recall': [0.76, 0.77], 'F1': [0.71,0.70]}\n",
    "\n",
    "pdFrame = pd.DataFrame(data = d)"
   ]
  },
  {
   "cell_type": "code",
   "execution_count": null,
   "metadata": {},
   "outputs": [],
   "source": []
  }
 ],
 "metadata": {
  "kernelspec": {
   "display_name": "Python 3",
   "language": "python",
   "name": "python3"
  },
  "language_info": {
   "codemirror_mode": {
    "name": "ipython",
    "version": 3
   },
   "file_extension": ".py",
   "mimetype": "text/x-python",
   "name": "python",
   "nbconvert_exporter": "python",
   "pygments_lexer": "ipython3",
   "version": "3.10.6"
  }
 },
 "nbformat": 4,
 "nbformat_minor": 2
}
