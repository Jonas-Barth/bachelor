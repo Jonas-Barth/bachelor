{
 "cells": [
  {
   "cell_type": "code",
   "execution_count": 58,
   "metadata": {},
   "outputs": [],
   "source": [
    "import tweetnlp\n",
    "model = tweetnlp.load_model('irony')"
   ]
  },
  {
   "cell_type": "code",
   "execution_count": 59,
   "metadata": {},
   "outputs": [
    {
     "name": "stdout",
     "output_type": "stream",
     "text": [
      "{'label': 'irony', 'probability': {'non_irony': 0.03373716026544571, 'irony': 0.9662628173828125}}\n"
     ]
    }
   ],
   "source": [
    "result = model.irony('Wow... soooo cool', return_probability=True)\n",
    "type(result['probability']['irony'])\n",
    "print(result)"
   ]
  },
  {
   "cell_type": "code",
   "execution_count": 60,
   "metadata": {},
   "outputs": [],
   "source": [
    "# taken from gpt.ipynb file\n",
    "def calcFScore(truepos, trueneg, falsepos, falseneg):\n",
    "    FScoreResults = {}\n",
    "    FScoreResults['accuracy'] = (truepos + trueneg)/(truepos + trueneg + falsepos + falseneg)\n",
    "    FScoreResults['accuracy'] = (truepos + trueneg)/(truepos + trueneg + falsepos + falseneg)\n",
    "    if (truepos + falsepos > 0):\n",
    "        FScoreResults['precision'] = truepos/(truepos + falsepos)\n",
    "    else:\n",
    "        FScoreResults['precision'] = 0\n",
    "\n",
    "    if(truepos + falseneg > 0):\n",
    "        FScoreResults['recall'] = truepos/(truepos + falseneg)\n",
    "    else:\n",
    "        FScoreResults['recall'] = 0\n",
    "        \n",
    "    if((FScoreResults['precision'] + FScoreResults['recall']) > 0):\n",
    "        FScoreResults['F1'] = (2 * FScoreResults['precision'] * FScoreResults['recall'])/(FScoreResults['precision'] + FScoreResults['recall'])\n",
    "    else:\n",
    "        FScoreResults['F1'] = 0\n",
    "    return FScoreResults"
   ]
  },
  {
   "cell_type": "code",
   "execution_count": 61,
   "metadata": {},
   "outputs": [],
   "source": [
    "# Calculate the scores based on the answers from pysentimiento, this method is simply adapted from the other scores methods for GPT\n",
    "def scoresSentimiento(dataset, resultColumn):\n",
    "    truepos = 0\n",
    "    falsepos = 0\n",
    "    trueneg = 0\n",
    "    falseneg = 0\n",
    "\n",
    "    for index, row in dataset.iterrows():\n",
    "        sentimientoEval = row[resultColumn]\n",
    "        if (int(row[1]) == 1):\n",
    "            if (int(sentimientoEval) == 1):\n",
    "                truepos = truepos + 1\n",
    "            else:\n",
    "                falseneg = falseneg + 1\n",
    "        elif (int(row[1]) == 0):\n",
    "            if (int(sentimientoEval) == 1):\n",
    "                falsepos = falsepos + 1\n",
    "            else:\n",
    "                trueneg = trueneg + 1\n",
    "\n",
    "    numResults = calcFScore(truepos, trueneg, falsepos, falseneg)\n",
    "    numResults['tp'] = truepos\n",
    "    numResults['fn'] = falseneg\n",
    "    numResults['fp'] = falsepos\n",
    "    numResults['tn'] = trueneg\n",
    "    return numResults"
   ]
  },
  {
   "cell_type": "code",
   "execution_count": 67,
   "metadata": {},
   "outputs": [
    {
     "data": {
      "text/plain": [
       "{'accuracy': 0.39,\n",
       " 'precision': 0.2948717948717949,\n",
       " 'recall': 0.7931034482758621,\n",
       " 'F1': 0.42990654205607476,\n",
       " 'tp': 23,\n",
       " 'fn': 6,\n",
       " 'fp': 55,\n",
       " 'tn': 16}"
      ]
     },
     "execution_count": 67,
     "metadata": {},
     "output_type": "execute_result"
    }
   ],
   "source": [
    "import pandas as pd\n",
    "\n",
    "datasetName = \"fixedsetreadin\"\n",
    "datasetPath = \"datasets\\\\\" + datasetName + \".csv\"\n",
    "data = pd.read_csv(datasetPath)\n",
    "data = data.head(100)\n",
    "\n",
    "results = []\n",
    "resultsPerc = []\n",
    "\n",
    "for index, row in data.iterrows():\n",
    "    result = model.irony(row[0], return_probability=True)\n",
    "    resultsPerc.append(result['probability']['irony'])\n",
    "    if(result['probability']['irony'] >= 0.5):\n",
    "        results.append(1)\n",
    "    else:\n",
    "        results.append(0)\n",
    "\n",
    "data['result'] = results\n",
    "data['resultPercentage'] = resultsPerc\n",
    "scores = scoresSentimiento(data, 2)\n",
    "scores\n",
    "\n",
    "linesToWrite = ['Results for TweetNLP using dataset ' + datasetName +  ': \\n',\n",
    "        'Confusion Matrix:' + '\\n',\n",
    "        str(scores['tp']) + '  ' + str(scores['fn']) + '\\n',\n",
    "        str(scores['fp']) + '  ' + str(scores['tn']) + '\\n',\n",
    "        'Accuracy: ' + str(scores['accuracy']) + '\\n',\n",
    "        'Precision: ' + str(scores['precision']) + '\\n',\n",
    "        'Recall: ' + str(scores['recall']) + '\\n',\n",
    "        'F1-Score: ' + str(scores['F1']) + '\\n\\n']\n",
    "\n",
    "scores\n",
    "\n",
    "#file = open(\"TweetNLP results\" + \"\\\\metadata.txt\", \"w\")\n",
    "\n",
    "#data.to_csv(\"TweetNLP results\" + \"\\\\results.csv\", index=False)\n",
    "\n",
    "#file.writelines(linesToWrite)\n",
    "#file.close()"
   ]
  },
  {
   "cell_type": "code",
   "execution_count": 68,
   "metadata": {},
   "outputs": [
    {
     "name": "stdout",
     "output_type": "stream",
     "text": [
      "True\n",
      "True\n",
      "True\n",
      "True\n",
      "True\n",
      "True\n",
      "True\n",
      "True\n",
      "True\n",
      "True\n"
     ]
    }
   ],
   "source": [
    "import pandas as pd\n",
    "# check if values are really or only mostly the same\n",
    "datasetName = \"fixedsetreadin\"\n",
    "datasetPath = \"datasets\\\\\" + datasetName + \".csv\"\n",
    "data = pd.read_csv(datasetPath)\n",
    "data = data.head(100)\n",
    "\n",
    "for i in range(10):\n",
    "    results2 = []\n",
    "    for index, row in data.iterrows():\n",
    "        result = model.irony(row[0], return_probability=True)\n",
    "        if(result['probability']['irony'] >= 0.5):\n",
    "            results2.append(1)\n",
    "        else:\n",
    "            results2.append(0)\n",
    "\n",
    "    data['result'] = results2\n",
    "    scores2 = scoresSentimiento(data, 2)\n",
    "    scores2\n",
    "    print(scores == scores2)\n"
   ]
  },
  {
   "cell_type": "code",
   "execution_count": null,
   "metadata": {},
   "outputs": [],
   "source": []
  }
 ],
 "metadata": {
  "kernelspec": {
   "display_name": "Python 3",
   "language": "python",
   "name": "python3"
  },
  "language_info": {
   "codemirror_mode": {
    "name": "ipython",
    "version": 3
   },
   "file_extension": ".py",
   "mimetype": "text/x-python",
   "name": "python",
   "nbconvert_exporter": "python",
   "pygments_lexer": "ipython3",
   "version": "3.10.6"
  }
 },
 "nbformat": 4,
 "nbformat_minor": 2
}
