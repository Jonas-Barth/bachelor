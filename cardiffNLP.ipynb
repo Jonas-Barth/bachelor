{
 "cells": [
  {
   "cell_type": "code",
   "execution_count": 8,
   "metadata": {},
   "outputs": [],
   "source": [
    "import tweetnlp\n",
    "model = tweetnlp.load_model('irony')"
   ]
  },
  {
   "cell_type": "code",
   "execution_count": 9,
   "metadata": {},
   "outputs": [
    {
     "data": {
      "text/plain": [
       "float"
      ]
     },
     "execution_count": 9,
     "metadata": {},
     "output_type": "execute_result"
    }
   ],
   "source": [
    "result = model.irony('Wow... soooo cool', return_probability=True)\n",
    "type(result['probability']['irony'])"
   ]
  },
  {
   "cell_type": "code",
   "execution_count": 10,
   "metadata": {},
   "outputs": [],
   "source": [
    "# taken from gpt.ipynb file\n",
    "def calcFScore(truepos, falsepos, falseneg):\n",
    "    FScoreResults = {}\n",
    "    FScoreResults['precision'] = truepos/(truepos + falsepos)\n",
    "    FScoreResults['recall'] = truepos/(truepos + falseneg)\n",
    "    FScoreResults['F1'] = (2 * FScoreResults['precision'] * FScoreResults['recall'])/(FScoreResults['precision'] + FScoreResults['recall'])\n",
    "    return FScoreResults"
   ]
  },
  {
   "cell_type": "code",
   "execution_count": 11,
   "metadata": {},
   "outputs": [],
   "source": [
    "# Calculate the scores based on the answers from pysentimiento, this method is simply adapted from the other scores methods for GPT\n",
    "def scoresSentimiento(dataset, resultColumn):\n",
    "    truepos = 0\n",
    "    falsepos = 0\n",
    "    trueneg = 0\n",
    "    falseneg = 0\n",
    "\n",
    "    for index, row in dataset.iterrows():\n",
    "        sentimientoEval = row[resultColumn]\n",
    "        if (int(row[1]) == 1):\n",
    "            if (int(sentimientoEval) == 1):\n",
    "                truepos = truepos + 1\n",
    "            else:\n",
    "                falseneg = falseneg + 1\n",
    "        elif (int(row[1]) == 0):\n",
    "            if (int(sentimientoEval) == 1):\n",
    "                falsepos = falsepos + 1\n",
    "            else:\n",
    "                trueneg = trueneg + 1\n",
    "\n",
    "    numResults = calcFScore(truepos, falsepos, falseneg)\n",
    "    numResults['tp'] = truepos\n",
    "    numResults['fp'] = falsepos\n",
    "    numResults['fn'] = falseneg\n",
    "    numResults['tn'] = trueneg\n",
    "    return numResults"
   ]
  },
  {
   "cell_type": "code",
   "execution_count": 13,
   "metadata": {},
   "outputs": [
    {
     "data": {
      "text/plain": [
       "{'precision': 0.7,\n",
       " 'recall': 0.5,\n",
       " 'F1': 0.5833333333333334,\n",
       " 'tp': 21,\n",
       " 'fp': 9,\n",
       " 'fn': 21,\n",
       " 'tn': 49}"
      ]
     },
     "execution_count": 13,
     "metadata": {},
     "output_type": "execute_result"
    }
   ],
   "source": [
    "import pandas as pd\n",
    "\n",
    "datasetName = \"tweet_eval_irony_test\"\n",
    "datasetPath = \"datasets\\\\\" + datasetName + \".csv\"\n",
    "data = pd.read_csv(datasetPath)\n",
    "data = data.head(100)\n",
    "\n",
    "results = []\n",
    "\n",
    "for index, row in data.iterrows():\n",
    "    result = model.irony(row[0], return_probability=True)\n",
    "    if(result['probability']['irony'] >= 0.5):\n",
    "        results.append(1)\n",
    "    else:\n",
    "        results.append(0)\n",
    "\n",
    "data['result'] = results\n",
    "scores = scoresSentimiento(data, 2)\n",
    "scores"
   ]
  },
  {
   "cell_type": "code",
   "execution_count": null,
   "metadata": {},
   "outputs": [],
   "source": []
  }
 ],
 "metadata": {
  "kernelspec": {
   "display_name": "Python 3",
   "language": "python",
   "name": "python3"
  },
  "language_info": {
   "codemirror_mode": {
    "name": "ipython",
    "version": 3
   },
   "file_extension": ".py",
   "mimetype": "text/x-python",
   "name": "python",
   "nbconvert_exporter": "python",
   "pygments_lexer": "ipython3",
   "version": "3.10.6"
  }
 },
 "nbformat": 4,
 "nbformat_minor": 2
}
